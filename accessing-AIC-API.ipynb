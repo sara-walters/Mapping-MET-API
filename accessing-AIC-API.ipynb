{
 "cells": [
  {
   "cell_type": "code",
   "execution_count": null,
   "id": "813cf5d9",
   "metadata": {},
   "outputs": [],
   "source": [
    "import requests\n",
    "import pandas as pd\n",
    "import time"
   ]
  },
  {
   "cell_type": "code",
   "execution_count": 6,
   "id": "7dd761ac",
   "metadata": {},
   "outputs": [
    {
     "name": "stdout",
     "output_type": "stream",
     "text": [
      "Requirement already satisfied: openpyxl in /home/codespace/.python/current/lib/python3.12/site-packages (3.1.5)\n",
      "Requirement already satisfied: et-xmlfile in /home/codespace/.python/current/lib/python3.12/site-packages (from openpyxl) (2.0.0)\n",
      "Note: you may need to restart the kernel to use updated packages.\n"
     ]
    }
   ],
   "source": [
    "%pip install openpyxl"
   ]
  },
  {
   "cell_type": "code",
   "execution_count": 2,
   "id": "ad0d7c8b",
   "metadata": {},
   "outputs": [
    {
     "name": "stdout",
     "output_type": "stream",
     "text": [
      "Searching for: greek\n",
      "Fetching page 1 for keyword 'greek'...\n",
      "Fetching page 2 for keyword 'greek'...\n",
      "Fetching page 3 for keyword 'greek'...\n",
      "Fetching page 4 for keyword 'greek'...\n",
      "Fetching page 5 for keyword 'greek'...\n",
      "Fetching page 6 for keyword 'greek'...\n",
      "Fetching page 7 for keyword 'greek'...\n",
      "Fetching page 8 for keyword 'greek'...\n",
      "Fetching page 9 for keyword 'greek'...\n",
      "Fetching page 10 for keyword 'greek'...\n",
      "Fetching page 11 for keyword 'greek'...\n",
      "Failed to fetch page 11 for 'greek'. Status code: 403\n",
      "Searching for: roman\n",
      "Fetching page 1 for keyword 'roman'...\n",
      "Fetching page 2 for keyword 'roman'...\n",
      "Fetching page 3 for keyword 'roman'...\n",
      "Fetching page 4 for keyword 'roman'...\n",
      "Fetching page 5 for keyword 'roman'...\n",
      "Fetching page 6 for keyword 'roman'...\n",
      "Fetching page 7 for keyword 'roman'...\n",
      "Fetching page 8 for keyword 'roman'...\n",
      "Fetching page 9 for keyword 'roman'...\n",
      "Fetching page 10 for keyword 'roman'...\n",
      "Fetching page 11 for keyword 'roman'...\n",
      "Failed to fetch page 11 for 'roman'. Status code: 403\n",
      "Searching for: byzantine\n",
      "Fetching page 1 for keyword 'byzantine'...\n",
      "Fetching page 2 for keyword 'byzantine'...\n",
      "Fetching page 3 for keyword 'byzantine'...\n",
      "Fetching page 4 for keyword 'byzantine'...\n",
      "Fetching page 5 for keyword 'byzantine'...\n",
      "Fetching page 6 for keyword 'byzantine'...\n",
      "Fetching page 7 for keyword 'byzantine'...\n",
      "Fetching page 8 for keyword 'byzantine'...\n",
      "Fetching page 9 for keyword 'byzantine'...\n",
      "Fetching page 10 for keyword 'byzantine'...\n",
      "Fetching page 11 for keyword 'byzantine'...\n",
      "Failed to fetch page 11 for 'byzantine'. Status code: 403\n",
      "Exported 2143 unique records to AIC_Artifacts_Greek-Roman-Byzantine.xlsx\n"
     ]
    }
   ],
   "source": [
    "BASE_URL = \"https://api.artic.edu/api/v1/artworks/search\"\n",
    "\n",
    "keywords = [\"greek\", \"roman\", \"byzantine\"]\n",
    "results = []\n",
    "\n",
    "for keyword in keywords:\n",
    "    print(f\"Searching for: {keyword}\")\n",
    "    for page in range(1, 21):\n",
    "        print(f\"Fetching page {page} for keyword '{keyword}'...\")\n",
    "        params = {\n",
    "            \"q\": keyword,\n",
    "            \"fields\": \"id,title,place_of_origin,culture,date_acquired,provenance_text,medium,image_id\",\n",
    "            \"limit\": 100,\n",
    "            \"page\": page\n",
    "        }\n",
    "\n",
    "        response = requests.get(BASE_URL, params=params)\n",
    "        if response.status_code != 200:\n",
    "            print(f\"Failed to fetch page {page} for '{keyword}'. Status code: {response.status_code}\")\n",
    "            break\n",
    "\n",
    "        data = response.json()\n",
    "        artworks = data.get(\"data\", [])\n",
    "        if not artworks:\n",
    "            break\n",
    "\n",
    "        for artwork in artworks:\n",
    "            results.append({\n",
    "                \"ID\": artwork.get(\"id\"),\n",
    "                \"Title\": artwork.get(\"title\"),\n",
    "                \"Place of Origin\": artwork.get(\"place_of_origin\"),\n",
    "                \"Date Display\": artwork.get(\"date_display\"),\n",
    "                \"Provenance\": artwork.get(\"provenance_text\"),\n",
    "                \"Medium\": artwork.get(\"medium\"),\n",
    "                \"Dimensions\": artwork.get(\"dimensions\"),\n",
    "                \"Image URL\": f\"https://www.artic.edu/iiif/2/{artwork['image_id']}/full/843,/0/default.jpg\" if artwork.get(\"image_id\") else None,\n",
    "                \"Object Page\": f\"https://www.artic.edu/artworks/{artwork['id']}\"\n",
    "            })\n",
    "\n",
    "        time.sleep(0.2)\n",
    "\n",
    "# remove the duplicate entries\n",
    "df = pd.DataFrame(results).drop_duplicates(subset=\"ID\")\n",
    "df[\"longitude\"] = \"\"  # placeholder for longitude\n",
    "df[\"latitude\"] = \"\"  # placeholder for latitude\n",
    "\n",
    "# export results to excel\n",
    "output_file = \"AIC_Artifacts_Greek-Roman-Byzantine.xlsx\"\n",
    "df.to_excel(output_file, index=False)\n",
    "\n",
    "print(f\"Exported {len(df)} unique records to {output_file}\")\n"
   ]
  }
 ],
 "metadata": {
  "kernelspec": {
   "display_name": "Python 3",
   "language": "python",
   "name": "python3"
  },
  "language_info": {
   "codemirror_mode": {
    "name": "ipython",
    "version": 3
   },
   "file_extension": ".py",
   "mimetype": "text/x-python",
   "name": "python",
   "nbconvert_exporter": "python",
   "pygments_lexer": "ipython3",
   "version": "3.12.1"
  }
 },
 "nbformat": 4,
 "nbformat_minor": 5
}
